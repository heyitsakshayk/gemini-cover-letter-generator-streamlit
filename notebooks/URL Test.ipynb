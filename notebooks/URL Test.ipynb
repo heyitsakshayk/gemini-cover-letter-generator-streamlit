{
 "cells": [
  {
   "cell_type": "code",
   "execution_count": 11,
   "id": "033d53ba-d4b6-4f62-b306-3e0f6b07ce90",
   "metadata": {},
   "outputs": [
    {
     "name": "stdout",
     "output_type": "stream",
     "text": [
      "Trying to get job info\n",
      "Extracting Text\n",
      "/n/n The job description is: Job Description end. /n/n\n",
      "The job description is: Job Description end.\n"
     ]
    }
   ],
   "source": [
    "from bs4 import BeautifulSoup\n",
    "import requests\n",
    "\n",
    "def extract_text_from_url(url):\n",
    "    print(\"Extracting Text\")\n",
    "    headers = {\n",
    "        'User-Agent': 'Mozilla/5.0 (Windows NT 10.0; Win64; x64) AppleWebKit/537.36 (KHTML, like Gecko) Chrome/87.0.4280.88 Safari/537.36'\n",
    "    }\n",
    "    html = requests.get(url, headers=headers).text\n",
    "    soup = BeautifulSoup(html, features=\"html.parser\")\n",
    "    text = []\n",
    "    for lines in soup.findAll('div', {'class': 'description__text'}):\n",
    "        text.append(lines.get_text())\n",
    "    \n",
    "    lines = (line.strip() for line in text)\n",
    "    text = '\\n'.join(line for line in lines if line)\n",
    "    return text\n",
    "    \n",
    "url = \"https://www.linkedin.com/jobs/view/4004214114/\"\n",
    "job_post = \"\"\n",
    "try:\n",
    "    print(\"Trying to get job info\")\n",
    "    job_post = extract_text_from_url(url)  # Extract text from URL if accessible\n",
    "    job_post= \"The job description is: \" + job_post + \"Job Description end.\"\n",
    "    print(\"/n/n\",job_post,\"/n/n\")    \n",
    "except Exception as e:\n",
    "    print(\"Did not get job info\")\n",
    "    print(f\"Error accessing URL: {e}. Treating URL as plain text.\")\n",
    "    job_post = url  # If URL is not accessible, treat it as plain text job description\n",
    "print(job_post)"
   ]
  },
  {
   "cell_type": "code",
   "execution_count": 13,
   "id": "1854a874-1954-4b10-811f-cd30cfc8796f",
   "metadata": {},
   "outputs": [],
   "source": [
    "from bs4 import BeautifulSoup\n",
    "import requests\n",
    "import time\n",
    "\n",
    "def extract_text_from_url(url):\n",
    "    print(\"Extracting Text\")\n",
    "    headers = {\n",
    "        'User-Agent': 'Mozilla/5.0 (Windows NT 10.0; Win64; x64) AppleWebKit/537.36 (KHTML, like Gecko) Chrome/87.0.4280.88 Safari/537.36'\n",
    "    }\n",
    "    html = requests.get(url, headers=headers).text\n",
    "    print(html)\n",
    "    if not html:\n",
    "        print(\"empty\")\n",
    "    soup = BeautifulSoup(html, features=\"html.parser\")\n",
    "    text = []\n",
    "    for lines in soup.findAll('div', {'class': 'description__text'}):\n",
    "        text.append(lines.get_text())\n",
    "    \n",
    "    lines = (line.strip() for line in text)\n",
    "    text = '\\n'.join(line for line in lines if line)\n",
    "    return text\n"
   ]
  },
  {
   "cell_type": "code",
   "execution_count": 22,
   "id": "3ec41eb1-05ee-421e-98e8-afdee5609338",
   "metadata": {},
   "outputs": [],
   "source": [
    "from bs4 import BeautifulSoup\n",
    "from selenium import webdriver\n",
    "from selenium.webdriver.chrome.options import Options\n",
    "import time\n",
    "\n",
    "def extract_text_from_url(url):\n",
    "    print(\"Extracting Text with Selenium\")\n",
    "    \n",
    "    # Set up Selenium WebDriver with headless options\n",
    "    options = Options()\n",
    "    options.add_argument(\"--headless\")\n",
    "    options.add_argument(\"--no-sandbox\")\n",
    "    options.add_argument(\"--disable-dev-shm-usage\")\n",
    "    \n",
    "    # Add a user-agent to simulate a real browser\n",
    "    user_agent = \"Mozilla/5.0 (Windows NT 10.0; Win64; x64) AppleWebKit/537.36 (KHTML, like Gecko) Chrome/87.0.4280.88 Safari/537.36\"\n",
    "    options.add_argument(f\"user-agent={user_agent}\")\n",
    "    \n",
    "    driver = webdriver.Chrome(options=options)\n",
    "    \n",
    "    try:\n",
    "        # Load the page\n",
    "        driver.get(url)\n",
    "        time.sleep(3)  # Wait for JavaScript to load content\n",
    "        \n",
    "        # Get page source and parse it\n",
    "        html = driver.page_source\n",
    "        soup = BeautifulSoup(html, 'html.parser')\n",
    "        \n",
    "        # Extract text from target elements\n",
    "        text = []\n",
    "        for line in soup.find_all('div', class_='description__text'):\n",
    "            text.append(line.get_text(strip=True))\n",
    "        \n",
    "        # Join and return the text content\n",
    "        result = '\\n'.join(text)\n",
    "        return result\n",
    "    finally:\n",
    "        driver.quit()\n"
   ]
  },
  {
   "cell_type": "code",
   "execution_count": 25,
   "id": "bf382905-bff2-4823-8355-7c7fd65beb3a",
   "metadata": {},
   "outputs": [
    {
     "name": "stdout",
     "output_type": "stream",
     "text": [
      "Trying to get job info\n",
      "Extracting Text with Selenium\n",
      "/n/n The job description is: Job Description end. /n/n\n",
      "The job description is: Job Description end.\n"
     ]
    }
   ],
   "source": [
    "url = \"https://www.linkedin.com/jobs/view/4004214114/\"\n",
    "job_post = \"\"\n",
    "try:\n",
    "    print(\"Trying to get job info\")\n",
    "    job_post = extract_text_from_url(url)  # Extract text from URL if accessible\n",
    "    job_post= \"The job description is: \" + job_post + \"Job Description end.\"\n",
    "    print(\"/n/n\",job_post,\"/n/n\")    \n",
    "except Exception as e:\n",
    "    print(\"Did not get job info\")\n",
    "    print(f\"Error accessing URL: {e}. Treating URL as plain text.\")\n",
    "    job_post = url  # If URL is not accessible, treat it as plain text job description\n",
    "print(job_post)"
   ]
  },
  {
   "cell_type": "code",
   "execution_count": 14,
   "id": "333a1df0-8c44-4600-a1bf-fccc99ff6045",
   "metadata": {},
   "outputs": [],
   "source": [
    "from bs4 import BeautifulSoup\n",
    "from selenium import webdriver\n",
    "from selenium.webdriver.chrome.options import Options\n",
    "from selenium.webdriver.common.by import By\n",
    "from selenium.webdriver.support.ui import WebDriverWait\n",
    "from selenium.webdriver.support import expected_conditions as EC\n",
    "from selenium.common.exceptions import TimeoutException\n",
    "import time\n",
    "from splitter import text_to_doc_splitter\n",
    "\n",
    "def extract_text_from_url(url):\n",
    "    # Setup Chrome options for headless mode and add a user-agent\n",
    "    chrome_options = Options()\n",
    "    chrome_options.add_argument('--disable-gpu')\n",
    "    chrome_options.add_argument('--no-sandbox')\n",
    "    chrome_options.add_argument('--disable-extensions')\n",
    "    chrome_options.add_argument(\"user-agent=Mozilla/5.0 (Windows NT 10.0; Win64; x64) AppleWebKit/537.36 (KHTML, like Gecko) Chrome/87.0.4280.88 Safari/537.36\")\n",
    "    \n",
    "    # Initialize the WebDriver\n",
    "    driver = webdriver.Chrome(options=chrome_options)\n",
    "    driver.get(url)\n",
    "\n",
    "    # Wait for the content to load by waiting for an element that contains the description\n",
    "    try:\n",
    "        WebDriverWait(driver, 60).until(\n",
    "            EC.presence_of_element_located((By.CLASS_NAME, \"description__text\"))\n",
    "        )\n",
    "    except TimeoutException:\n",
    "        print(\"Timed out waiting for page to load\")\n",
    "        driver.quit()\n",
    "        return None\n",
    "\n",
    "    # Extract the HTML source\n",
    "    html = driver.page_source\n",
    "    soup = BeautifulSoup(html, 'html.parser')\n",
    "    \n",
    "    # Extract the desired content\n",
    "    text = []\n",
    "    for lines in soup.find_all('div', {'class': 'description__text'}):\n",
    "        text.append(lines.get_text(strip=True))\n",
    "    \n",
    "    # Clean up the extracted text\n",
    "    text_content = '\\n'.join(text)\n",
    "    print(\"Extracted Text:\\n\", text_content)\n",
    "\n",
    "    \n",
    "    # Process the text as needed (assuming you have a text processing function)\n",
    "    document = text_to_doc_splitter(text_content)\n",
    "    print(document)\n",
    "    driver.quit()  # Quit the driver to free resources\n",
    "    return text_content  # Replace with 'document' if further processing is needed"
   ]
  },
  {
   "cell_type": "code",
   "execution_count": 15,
   "id": "c2f8d3e2-1558-4e4f-8a63-c6e91be034fc",
   "metadata": {},
   "outputs": [
    {
     "ename": "NoSuchWindowException",
     "evalue": "Message: no such window: target window already closed\nfrom unknown error: web view not found\n  (Session info: chrome=131.0.6778.70)\nStacktrace:\n\tGetHandleVerifier [0x00007FF7CAE62775+28773]\n\t(No symbol) [0x00007FF7CADCAFB0]\n\t(No symbol) [0x00007FF7CAC6552A]\n\t(No symbol) [0x00007FF7CAC3F2B5]\n\t(No symbol) [0x00007FF7CACE5FD7]\n\t(No symbol) [0x00007FF7CACFEA92]\n\t(No symbol) [0x00007FF7CACDED43]\n\t(No symbol) [0x00007FF7CACAA548]\n\t(No symbol) [0x00007FF7CACAB6B1]\n\tGetHandleVerifier [0x00007FF7CB18F45D+3358029]\n\tGetHandleVerifier [0x00007FF7CB1A430D+3443709]\n\tGetHandleVerifier [0x00007FF7CB1983FD+3394797]\n\tGetHandleVerifier [0x00007FF7CAF2929B+842635]\n\t(No symbol) [0x00007FF7CADD654F]\n\t(No symbol) [0x00007FF7CADD1FA4]\n\t(No symbol) [0x00007FF7CADD213D]\n\t(No symbol) [0x00007FF7CADC1629]\n\tBaseThreadInitThunk [0x00007FFDA2A5257D+29]\n\tRtlUserThreadStart [0x00007FFDA38EAF08+40]\n",
     "output_type": "error",
     "traceback": [
      "\u001b[1;31m---------------------------------------------------------------------------\u001b[0m",
      "\u001b[1;31mNoSuchWindowException\u001b[0m                     Traceback (most recent call last)",
      "Cell \u001b[1;32mIn[15], line 1\u001b[0m\n\u001b[1;32m----> 1\u001b[0m extract_text_from_url(\u001b[38;5;124m\"\u001b[39m\u001b[38;5;124mhttps://www.linkedin.com/jobs/view/4004214114/\u001b[39m\u001b[38;5;124m\"\u001b[39m)\n",
      "Cell \u001b[1;32mIn[14], line 25\u001b[0m, in \u001b[0;36mextract_text_from_url\u001b[1;34m(url)\u001b[0m\n\u001b[0;32m     23\u001b[0m \u001b[38;5;66;03m# Wait for the content to load by waiting for an element that contains the description\u001b[39;00m\n\u001b[0;32m     24\u001b[0m \u001b[38;5;28;01mtry\u001b[39;00m:\n\u001b[1;32m---> 25\u001b[0m     WebDriverWait(driver, \u001b[38;5;241m60\u001b[39m)\u001b[38;5;241m.\u001b[39muntil(\n\u001b[0;32m     26\u001b[0m         EC\u001b[38;5;241m.\u001b[39mpresence_of_element_located((By\u001b[38;5;241m.\u001b[39mCLASS_NAME, \u001b[38;5;124m\"\u001b[39m\u001b[38;5;124mdescription__text\u001b[39m\u001b[38;5;124m\"\u001b[39m))\n\u001b[0;32m     27\u001b[0m     )\n\u001b[0;32m     28\u001b[0m \u001b[38;5;28;01mexcept\u001b[39;00m TimeoutException:\n\u001b[0;32m     29\u001b[0m     \u001b[38;5;28mprint\u001b[39m(\u001b[38;5;124m\"\u001b[39m\u001b[38;5;124mTimed out waiting for page to load\u001b[39m\u001b[38;5;124m\"\u001b[39m)\n",
      "File \u001b[1;32m~\\anaconda3\\Lib\\site-packages\\selenium\\webdriver\\support\\wait.py:96\u001b[0m, in \u001b[0;36mWebDriverWait.until\u001b[1;34m(self, method, message)\u001b[0m\n\u001b[0;32m     94\u001b[0m \u001b[38;5;28;01mwhile\u001b[39;00m \u001b[38;5;28;01mTrue\u001b[39;00m:\n\u001b[0;32m     95\u001b[0m     \u001b[38;5;28;01mtry\u001b[39;00m:\n\u001b[1;32m---> 96\u001b[0m         value \u001b[38;5;241m=\u001b[39m method(\u001b[38;5;28mself\u001b[39m\u001b[38;5;241m.\u001b[39m_driver)\n\u001b[0;32m     97\u001b[0m         \u001b[38;5;28;01mif\u001b[39;00m value:\n\u001b[0;32m     98\u001b[0m             \u001b[38;5;28;01mreturn\u001b[39;00m value\n",
      "File \u001b[1;32m~\\anaconda3\\Lib\\site-packages\\selenium\\webdriver\\support\\expected_conditions.py:84\u001b[0m, in \u001b[0;36mpresence_of_element_located.<locals>._predicate\u001b[1;34m(driver)\u001b[0m\n\u001b[0;32m     83\u001b[0m \u001b[38;5;28;01mdef\u001b[39;00m \u001b[38;5;21m_predicate\u001b[39m(driver: WebDriverOrWebElement):\n\u001b[1;32m---> 84\u001b[0m     \u001b[38;5;28;01mreturn\u001b[39;00m driver\u001b[38;5;241m.\u001b[39mfind_element(\u001b[38;5;241m*\u001b[39mlocator)\n",
      "File \u001b[1;32m~\\anaconda3\\Lib\\site-packages\\selenium\\webdriver\\remote\\webdriver.py:766\u001b[0m, in \u001b[0;36mWebDriver.find_element\u001b[1;34m(self, by, value)\u001b[0m\n\u001b[0;32m    763\u001b[0m         \u001b[38;5;28;01mraise\u001b[39;00m NoSuchElementException(\u001b[38;5;124mf\u001b[39m\u001b[38;5;124m\"\u001b[39m\u001b[38;5;124mCannot locate relative element with: \u001b[39m\u001b[38;5;132;01m{\u001b[39;00mby\u001b[38;5;241m.\u001b[39mroot\u001b[38;5;132;01m}\u001b[39;00m\u001b[38;5;124m\"\u001b[39m)\n\u001b[0;32m    764\u001b[0m     \u001b[38;5;28;01mreturn\u001b[39;00m elements[\u001b[38;5;241m0\u001b[39m]\n\u001b[1;32m--> 766\u001b[0m \u001b[38;5;28;01mreturn\u001b[39;00m \u001b[38;5;28mself\u001b[39m\u001b[38;5;241m.\u001b[39mexecute(Command\u001b[38;5;241m.\u001b[39mFIND_ELEMENT, {\u001b[38;5;124m\"\u001b[39m\u001b[38;5;124musing\u001b[39m\u001b[38;5;124m\"\u001b[39m: by, \u001b[38;5;124m\"\u001b[39m\u001b[38;5;124mvalue\u001b[39m\u001b[38;5;124m\"\u001b[39m: value})[\u001b[38;5;124m\"\u001b[39m\u001b[38;5;124mvalue\u001b[39m\u001b[38;5;124m\"\u001b[39m]\n",
      "File \u001b[1;32m~\\anaconda3\\Lib\\site-packages\\selenium\\webdriver\\remote\\webdriver.py:380\u001b[0m, in \u001b[0;36mWebDriver.execute\u001b[1;34m(self, driver_command, params)\u001b[0m\n\u001b[0;32m    378\u001b[0m response \u001b[38;5;241m=\u001b[39m \u001b[38;5;28mself\u001b[39m\u001b[38;5;241m.\u001b[39mcommand_executor\u001b[38;5;241m.\u001b[39mexecute(driver_command, params)\n\u001b[0;32m    379\u001b[0m \u001b[38;5;28;01mif\u001b[39;00m response:\n\u001b[1;32m--> 380\u001b[0m     \u001b[38;5;28mself\u001b[39m\u001b[38;5;241m.\u001b[39merror_handler\u001b[38;5;241m.\u001b[39mcheck_response(response)\n\u001b[0;32m    381\u001b[0m     response[\u001b[38;5;124m\"\u001b[39m\u001b[38;5;124mvalue\u001b[39m\u001b[38;5;124m\"\u001b[39m] \u001b[38;5;241m=\u001b[39m \u001b[38;5;28mself\u001b[39m\u001b[38;5;241m.\u001b[39m_unwrap_value(response\u001b[38;5;241m.\u001b[39mget(\u001b[38;5;124m\"\u001b[39m\u001b[38;5;124mvalue\u001b[39m\u001b[38;5;124m\"\u001b[39m, \u001b[38;5;28;01mNone\u001b[39;00m))\n\u001b[0;32m    382\u001b[0m     \u001b[38;5;28;01mreturn\u001b[39;00m response\n",
      "File \u001b[1;32m~\\anaconda3\\Lib\\site-packages\\selenium\\webdriver\\remote\\errorhandler.py:229\u001b[0m, in \u001b[0;36mErrorHandler.check_response\u001b[1;34m(self, response)\u001b[0m\n\u001b[0;32m    227\u001b[0m         alert_text \u001b[38;5;241m=\u001b[39m value[\u001b[38;5;124m\"\u001b[39m\u001b[38;5;124malert\u001b[39m\u001b[38;5;124m\"\u001b[39m]\u001b[38;5;241m.\u001b[39mget(\u001b[38;5;124m\"\u001b[39m\u001b[38;5;124mtext\u001b[39m\u001b[38;5;124m\"\u001b[39m)\n\u001b[0;32m    228\u001b[0m     \u001b[38;5;28;01mraise\u001b[39;00m exception_class(message, screen, stacktrace, alert_text)  \u001b[38;5;66;03m# type: ignore[call-arg]  # mypy is not smart enough here\u001b[39;00m\n\u001b[1;32m--> 229\u001b[0m \u001b[38;5;28;01mraise\u001b[39;00m exception_class(message, screen, stacktrace)\n",
      "\u001b[1;31mNoSuchWindowException\u001b[0m: Message: no such window: target window already closed\nfrom unknown error: web view not found\n  (Session info: chrome=131.0.6778.70)\nStacktrace:\n\tGetHandleVerifier [0x00007FF7CAE62775+28773]\n\t(No symbol) [0x00007FF7CADCAFB0]\n\t(No symbol) [0x00007FF7CAC6552A]\n\t(No symbol) [0x00007FF7CAC3F2B5]\n\t(No symbol) [0x00007FF7CACE5FD7]\n\t(No symbol) [0x00007FF7CACFEA92]\n\t(No symbol) [0x00007FF7CACDED43]\n\t(No symbol) [0x00007FF7CACAA548]\n\t(No symbol) [0x00007FF7CACAB6B1]\n\tGetHandleVerifier [0x00007FF7CB18F45D+3358029]\n\tGetHandleVerifier [0x00007FF7CB1A430D+3443709]\n\tGetHandleVerifier [0x00007FF7CB1983FD+3394797]\n\tGetHandleVerifier [0x00007FF7CAF2929B+842635]\n\t(No symbol) [0x00007FF7CADD654F]\n\t(No symbol) [0x00007FF7CADD1FA4]\n\t(No symbol) [0x00007FF7CADD213D]\n\t(No symbol) [0x00007FF7CADC1629]\n\tBaseThreadInitThunk [0x00007FFDA2A5257D+29]\n\tRtlUserThreadStart [0x00007FFDA38EAF08+40]\n"
     ]
    }
   ],
   "source": [
    "extract_text_from_url(\"https://www.linkedin.com/jobs/view/4004214114/\")"
   ]
  },
  {
   "cell_type": "code",
   "execution_count": 11,
   "id": "480ec1ae-c32a-4e19-9d18-a47b3ec22b8e",
   "metadata": {},
   "outputs": [],
   "source": [
    "from selenium import webdriver\n",
    "from bs4 import BeautifulSoup\n",
    "\n",
    "def extract_text_from_url(url):\n",
    "    driver = webdriver.Chrome()  # Or use any other WebDriver\n",
    "    driver.get(url)\n",
    "    html = driver.page_source\n",
    "    soup = BeautifulSoup(html, features=\"html.parser\")\n",
    "    text = []\n",
    "    for lines in soup.findAll('div', {'class': 'description__text'}):\n",
    "        text.append(lines.get_text())\n",
    "    \n",
    "    lines = (line.strip() for line in text)\n",
    "    text = '\\n'.join(line for line in lines if line)\n",
    "    print(\"Plain Text is \",text)\n",
    "    document = text_to_doc_splitter(text)\n",
    "    \n",
    "    driver.quit()  # Don't forget to quit the driver!\n",
    "    return document\n"
   ]
  },
  {
   "cell_type": "code",
   "execution_count": 15,
   "id": "9d8a4b6a-97e9-46a5-87e4-11dfb22057ff",
   "metadata": {},
   "outputs": [
    {
     "name": "stdout",
     "output_type": "stream",
     "text": [
      "Plain Text is  \n"
     ]
    },
    {
     "data": {
      "text/plain": [
       "[]"
      ]
     },
     "execution_count": 15,
     "metadata": {},
     "output_type": "execute_result"
    }
   ],
   "source": [
    "extract_text_from_url(\"https://www.linkedin.com/jobs/view/4004214114/\")"
   ]
  }
 ],
 "metadata": {
  "kernelspec": {
   "display_name": "Python 3 (ipykernel)",
   "language": "python",
   "name": "python3"
  },
  "language_info": {
   "codemirror_mode": {
    "name": "ipython",
    "version": 3
   },
   "file_extension": ".py",
   "mimetype": "text/x-python",
   "name": "python",
   "nbconvert_exporter": "python",
   "pygments_lexer": "ipython3",
   "version": "3.12.4"
  }
 },
 "nbformat": 4,
 "nbformat_minor": 5
}
