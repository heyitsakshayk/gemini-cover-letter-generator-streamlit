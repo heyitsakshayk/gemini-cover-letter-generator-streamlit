{
 "cells": [
  {
   "cell_type": "code",
   "execution_count": 1,
   "id": "03e7eff3-87f5-445f-94fd-4c01e8b9d970",
   "metadata": {},
   "outputs": [],
   "source": [
    "from bs4 import BeautifulSoup\n",
    "import requests\n",
    "\n",
    "from splitter import text_to_doc_splitter\n",
    "\n",
    "def extract_text_from_url(url):\n",
    "    html = requests.get(url).text\n",
    "    soup = BeautifulSoup(html, features=\"html.parser\")\n",
    "    text = []\n",
    "    for lines in soup.findAll('div', {'class': 'description__text'}):\n",
    "        text.append(lines.get_text())\n",
    "    \n",
    "    lines = (line.strip() for line in text)\n",
    "    text = '\\n'.join(line for line in lines if line)\n",
    "    \n",
    "    document = text_to_doc_splitter(text)\n",
    "\n",
    "    return document"
   ]
  },
  {
   "cell_type": "code",
   "execution_count": 2,
   "id": "a8029aa8-5acd-4b70-ad39-0fbb1e6605d1",
   "metadata": {},
   "outputs": [
    {
     "data": {
      "text/plain": [
       "[]"
      ]
     },
     "execution_count": 2,
     "metadata": {},
     "output_type": "execute_result"
    }
   ],
   "source": [
    "extract_text_from_url(\"https://www.linkedin.com/jobs/view/4004214114/\")"
   ]
  },
  {
   "cell_type": "code",
   "execution_count": 5,
   "id": "005cb1f5-9af0-4424-9260-b6f0dd2ac157",
   "metadata": {},
   "outputs": [],
   "source": [
    "from selenium import webdriver\n",
    "from bs4 import BeautifulSoup\n",
    "\n",
    "def extract_text_from_url(url):\n",
    "    driver = webdriver.Chrome()  # Or use any other WebDriver\n",
    "    driver.get(url)\n",
    "    html = driver.page_source\n",
    "    soup = BeautifulSoup(html, features=\"html.parser\")\n",
    "    text = []\n",
    "    for lines in soup.findAll('div', {'class': 'description__text'}):\n",
    "        text.append(lines.get_text())\n",
    "    \n",
    "    lines = (line.strip() for line in text)\n",
    "    text = '\\n'.join(line for line in lines if line)\n",
    "    \n",
    "    document = text_to_doc_splitter(text)\n",
    "    \n",
    "    driver.quit()  # Don't forget to quit the driver!\n",
    "    return document\n"
   ]
  },
  {
   "cell_type": "code",
   "execution_count": 6,
   "id": "f236eafd-12fd-4115-b094-db9b863d03cc",
   "metadata": {},
   "outputs": [
    {
     "data": {
      "text/plain": [
       "[Document(metadata={'start_index': 0}, page_content=\"Presto is a company that provides enterprise-grade AI and automation solutions to the restaurant industry. Presto was one of the relatively few technology companies able to successfully become public in 2022. Founded out of MIT in 2008, the company has grown to become the leader in drive-thru voice automation. Presto’s solutions are designed to decrease labor costs, improve staff productivity, increase revenue, and enhance the guest experience. Presto offers its AI solution, Presto Voice™, to quick service restaurants (QSR) and has some of the most recognized restaurant names in the United States as its customers.We are seeking a passionate and talented Generative AI Intern to join our dynamic team. This 6-month internship offers the opportunity to work on cutting-edge AI technologies and contribute to the development of innovative solutions that enhance the restaurant drive-thru experience. As a Generative AI Intern, you will collaborate with experienced AI professionals and gain hands-on experience in designing, developing, and deploying generative AI models and evaluating prompt efficiencies in production systems.ResponsibilitiesAssist in the research and development of generative AI models for various applications within the restaurant industry.Collaborate with the AI team to design, implement, and test algorithms and models that improve voice automation solutions.Analyze large datasets to train and fine-tune AI models, ensuring high accuracy and performance.Fine-tune AI model performance using state-of-the-art prompt tuning technique.\\xa0Contribute to the development of AI-driven features and functionalities for Presto Voice™.Participate in team meetings, brainstorming sessions, and code reviews.Document research findings, methodologies, and code to support knowledge sharing and future development.Stay updated with the latest advancements in generative AI and related technologies.QualificationsRecent graduates with a Bachelor's, Master's, or PhD in Computer Science, Artificial Intelligence, Machine Learning, or a related field.Strong understanding of machine learning principles, algorithms, and techniques.Experience with programming languages such as Python and frameworks such as TensorFlow or PyTorch.Ability to work collaboratively in a team environment and communicate technical concepts effectively.Problem-solving skills and a proactive attitude toward learning and development.Prior experience with prompt engineering.\\xa0Presto has a compensation strategy that aims to reward high performers and retain them for the long term.\\xa0 Other benefits to U.S.-based employees include medical, dental, and vision insurance, 401(k) program, and paid-time-off (PTO).\\xa0 To learn more, please visit: www.presto.com.We value people from all walks of life and are committed to creating an inclusive hiring process and work environment.\\xa0 We especially encourage historically underrepresented candidates to apply.\\xa0 We are an equal employment opportunity employer. All qualified applicants will receive consideration for employment without regard to race, color, religion, sex, national origin, disability status, protected veteran status, or any other characteristic protected by law. If you need an accommodation to access the job application or interview process, please contact recruiting@presto.com.\\xa0\\n        \\n\\n\\n        \\n            Show more\\n          \\n\\n          \\n\\n\\n\\n        \\n            Show less\")]"
      ]
     },
     "execution_count": 6,
     "metadata": {},
     "output_type": "execute_result"
    }
   ],
   "source": [
    "extract_text_from_url(\"https://www.linkedin.com/jobs/view/4004214114/\")"
   ]
  },
  {
   "cell_type": "code",
   "execution_count": 39,
   "id": "85eda01d-527c-45d6-8f0f-9f5f70d306d2",
   "metadata": {},
   "outputs": [],
   "source": [
    "from selenium import webdriver\n",
    "from selenium.webdriver.chrome.options import Options\n",
    "from selenium.webdriver.common.by import By\n",
    "from selenium.webdriver.support.ui import WebDriverWait\n",
    "from selenium.webdriver.support import expected_conditions as EC\n",
    "from bs4 import BeautifulSoup\n",
    "\n",
    "def extract_text_from_url(url):\n",
    "    # Setup Chrome options for headless mode\n",
    "    chrome_options = Options()\n",
    "    chrome_options.add_argument('--headless')  # Run without opening a window\n",
    "    chrome_options.add_argument('--disable-gpu')  # Disable GPU acceleration (improves performance)\n",
    "    chrome_options.add_argument('--no-sandbox')  # Ensure compatibility with certain environments\n",
    "    chrome_options.add_argument('--disable-extensions')  # Disable extensions for faster loading\n",
    "    \n",
    "    # Initialize the WebDriver\n",
    "    driver = webdriver.Chrome(options=chrome_options)\n",
    "    driver.get(url)\n",
    "\n",
    "    # Wait for the content to load by waiting for an element that contains the description\n",
    "    try:\n",
    "        WebDriverWait(driver, 60).until(\n",
    "            EC.presence_of_element_located((By.CLASS_NAME, \"description__text\"))\n",
    "        )\n",
    "    except TimeoutException:\n",
    "        print(\"Timed out waiting for page to load\")\n",
    "        driver.quit()\n",
    "        return None\n",
    "\n",
    "    # Extract the HTML source\n",
    "    html = driver.page_source\n",
    "    soup = BeautifulSoup(html, features=\"html.parser\")\n",
    "    \n",
    "    # Extract the desired content\n",
    "    text = []\n",
    "    for lines in soup.findAll('div', {'class': 'description__text'}):\n",
    "        text.append(lines.get_text())\n",
    "    \n",
    "    # Clean up the extracted text\n",
    "    lines = (line.strip() for line in text)\n",
    "    text = '\\n'.join(line for line in lines if line)\n",
    "    \n",
    "    # Process the text using your document splitter\n",
    "    document = text_to_doc_splitter(text)\n",
    "    \n",
    "    driver.quit()  # Don't forget to quit the driver!\n",
    "    return document\n"
   ]
  },
  {
   "cell_type": "code",
   "execution_count": 40,
   "id": "1e53fc08-3a8c-4f7a-9e4f-7cb2f39585fc",
   "metadata": {},
   "outputs": [
    {
     "data": {
      "text/plain": [
       "[Document(metadata={'start_index': 0}, page_content=\"Presto is a company that provides enterprise-grade AI and automation solutions to the restaurant industry. Presto was one of the relatively few technology companies able to successfully become public in 2022. Founded out of MIT in 2008, the company has grown to become the leader in drive-thru voice automation. Presto’s solutions are designed to decrease labor costs, improve staff productivity, increase revenue, and enhance the guest experience. Presto offers its AI solution, Presto Voice™, to quick service restaurants (QSR) and has some of the most recognized restaurant names in the United States as its customers.We are seeking a passionate and talented Generative AI Intern to join our dynamic team. This 6-month internship offers the opportunity to work on cutting-edge AI technologies and contribute to the development of innovative solutions that enhance the restaurant drive-thru experience. As a Generative AI Intern, you will collaborate with experienced AI professionals and gain hands-on experience in designing, developing, and deploying generative AI models and evaluating prompt efficiencies in production systems.ResponsibilitiesAssist in the research and development of generative AI models for various applications within the restaurant industry.Collaborate with the AI team to design, implement, and test algorithms and models that improve voice automation solutions.Analyze large datasets to train and fine-tune AI models, ensuring high accuracy and performance.Fine-tune AI model performance using state-of-the-art prompt tuning technique.\\xa0Contribute to the development of AI-driven features and functionalities for Presto Voice™.Participate in team meetings, brainstorming sessions, and code reviews.Document research findings, methodologies, and code to support knowledge sharing and future development.Stay updated with the latest advancements in generative AI and related technologies.QualificationsRecent graduates with a Bachelor's, Master's, or PhD in Computer Science, Artificial Intelligence, Machine Learning, or a related field.Strong understanding of machine learning principles, algorithms, and techniques.Experience with programming languages such as Python and frameworks such as TensorFlow or PyTorch.Ability to work collaboratively in a team environment and communicate technical concepts effectively.Problem-solving skills and a proactive attitude toward learning and development.Prior experience with prompt engineering.\\xa0Presto has a compensation strategy that aims to reward high performers and retain them for the long term.\\xa0 Other benefits to U.S.-based employees include medical, dental, and vision insurance, 401(k) program, and paid-time-off (PTO).\\xa0 To learn more, please visit: www.presto.com.We value people from all walks of life and are committed to creating an inclusive hiring process and work environment.\\xa0 We especially encourage historically underrepresented candidates to apply.\\xa0 We are an equal employment opportunity employer. All qualified applicants will receive consideration for employment without regard to race, color, religion, sex, national origin, disability status, protected veteran status, or any other characteristic protected by law. If you need an accommodation to access the job application or interview process, please contact recruiting@presto.com.\\xa0\\n        \\n\\n\\n        \\n            Show more\\n          \\n\\n          \\n\\n\\n\\n        \\n            Show less\")]"
      ]
     },
     "execution_count": 40,
     "metadata": {},
     "output_type": "execute_result"
    }
   ],
   "source": [
    "extract_text_from_url(\"https://www.linkedin.com/jobs/view/4004214114/\")"
   ]
  },
  {
   "cell_type": "code",
   "execution_count": 11,
   "id": "b02f11ca-a36d-4574-a80e-ab8724427224",
   "metadata": {},
   "outputs": [],
   "source": [
    "from bs4 import BeautifulSoup\n",
    "import requests\n",
    "\n",
    "from splitter import text_to_doc_splitter\n",
    "\n",
    "def extract_text_from_url(url):\n",
    "    html = requests.get(url).text\n",
    "    soup = BeautifulSoup(html, features=\"html.parser\")\n",
    "    text = []\n",
    "    for lines in soup.findAll('div', {'class': 'description__text'}):\n",
    "        text.append(lines.get_text())\n",
    "    \n",
    "    lines = (line.strip() for line in text)\n",
    "    text = '\\n'.join(line for line in lines if line)\n",
    "    \n",
    "    document = text_to_doc_splitter(text)\n",
    "\n",
    "    return document"
   ]
  },
  {
   "cell_type": "code",
   "execution_count": 12,
   "id": "67b9b2c7-a4fb-484e-b56b-f95f69927835",
   "metadata": {},
   "outputs": [
    {
     "data": {
      "text/plain": [
       "[]"
      ]
     },
     "execution_count": 12,
     "metadata": {},
     "output_type": "execute_result"
    }
   ],
   "source": [
    "extract_text_from_url(\"https://www.linkedin.com/jobs/view/4004214114/\")"
   ]
  },
  {
   "cell_type": "code",
   "execution_count": 41,
   "id": "55dde9ca-b501-42fb-8dcb-46aa3c096c4e",
   "metadata": {},
   "outputs": [
    {
     "name": "stdout",
     "output_type": "stream",
     "text": [
      "Trying to get job info\n",
      "\n",
      "\n",
      " the URL is  https://www.linkedin.com/jobs/view/4004214114/ \n",
      "\n",
      "\n",
      "Did not get job info\n",
      "Error accessing URL: name 'TimeoutException' is not defined. Treating URL as plain text.\n",
      "https://www.linkedin.com/jobs/view/4004214114/\n"
     ]
    }
   ],
   "source": [
    "def extract_text_from_url(url):\n",
    "    print(\"\\n\\n the URL is \",url,\"\\n\\n\")\n",
    "    # Setup Chrome options for headless mode\n",
    "    chrome_options = Options()\n",
    "    chrome_options.add_argument('--headless')  # Run without opening a window\n",
    "    chrome_options.add_argument('--disable-gpu')  # Disable GPU acceleration (improves performance)\n",
    "    chrome_options.add_argument('--no-sandbox')  # Ensure compatibility with certain environments\n",
    "    chrome_options.add_argument('--disable-extensions')  # Disable extensions for faster loading\n",
    "    \n",
    "    # Initialize the WebDriver\n",
    "    driver = webdriver.Chrome(options=chrome_options)\n",
    "    driver.get(url)\n",
    "\n",
    "    \n",
    "\n",
    "    # Wait for the content to load by waiting for an element that contains the description\n",
    "    try:\n",
    "        WebDriverWait(driver, 60).until(\n",
    "            EC.presence_of_element_located((By.CLASS_NAME, \"description__text\"))\n",
    "        )\n",
    "    except TimeoutException:\n",
    "        print(\"Timed out waiting for page to load\")\n",
    "        driver.quit()\n",
    "        return None\n",
    "\n",
    "    # Extract the HTML source\n",
    "    html = driver.page_source\n",
    "    soup = BeautifulSoup(html, features=\"html.parser\")\n",
    "    \n",
    "    # Extract the desired content\n",
    "    text = []\n",
    "    for lines in soup.findAll('div', {'class': 'description__text'}):\n",
    "        text.append(lines.get_text())\n",
    "    \n",
    "    # Clean up the extracted text\n",
    "    lines = (line.strip() for line in text)\n",
    "    text = '\\n'.join(line for line in lines if line)\n",
    "    \n",
    "    driver.quit()  # Don't forget to quit the driver!\n",
    "    return text\n",
    "\n",
    "url = \"https://www.linkedin.com/jobs/view/4004214114/\"\n",
    "job_post=\"\"\n",
    "try:\n",
    "    print(\"Trying to get job info\")\n",
    "    job_post = extract_text_from_url(url)  # Extract text from URL if accessible    \n",
    "    print(\"/n/n\",job_post,\"/n/n\")\n",
    "except Exception as e:\n",
    "    print(\"Did not get job info\")\n",
    "    print(f\"Error accessing URL: {e}. Treating URL as plain text.\")\n",
    "    job_post = url \n",
    "#job_post= \"The job description is: \" + job_post + \"Job Description end.\"\n",
    "print(job_post)"
   ]
  },
  {
   "cell_type": "code",
   "execution_count": 24,
   "id": "b340e4ad-638f-4181-8d29-1308ba7c1f7c",
   "metadata": {},
   "outputs": [],
   "source": [
    "if response==429:\n",
    "    print(\"Hi\")"
   ]
  },
  {
   "cell_type": "code",
   "execution_count": 25,
   "id": "b77fbe55-f70d-4bcb-9719-8a15beec7820",
   "metadata": {},
   "outputs": [
    {
     "data": {
      "text/plain": [
       "requests.models.Response"
      ]
     },
     "execution_count": 25,
     "metadata": {},
     "output_type": "execute_result"
    }
   ],
   "source": [
    "type(response)"
   ]
  },
  {
   "cell_type": "code",
   "execution_count": 28,
   "id": "84f32d10-be9e-4f53-a9d7-aaf0c2b7f9f4",
   "metadata": {},
   "outputs": [
    {
     "name": "stdout",
     "output_type": "stream",
     "text": [
      "Trying to get job info\n"
     ]
    },
    {
     "ename": "Exception",
     "evalue": "URL not accessible",
     "output_type": "error",
     "traceback": [
      "\u001b[1;31m---------------------------------------------------------------------------\u001b[0m",
      "\u001b[1;31mException\u001b[0m                                 Traceback (most recent call last)",
      "Cell \u001b[1;32mIn[28], line 8\u001b[0m\n\u001b[0;32m      6\u001b[0m     \u001b[38;5;28mprint\u001b[39m(\u001b[38;5;124m\"\u001b[39m\u001b[38;5;124m/n/n\u001b[39m\u001b[38;5;124m\"\u001b[39m,job_post,\u001b[38;5;124m\"\u001b[39m\u001b[38;5;124m/n/n\u001b[39m\u001b[38;5;124m\"\u001b[39m)\n\u001b[0;32m      7\u001b[0m \u001b[38;5;28;01melse\u001b[39;00m:\n\u001b[1;32m----> 8\u001b[0m     \u001b[38;5;28;01mraise\u001b[39;00m \u001b[38;5;167;01mException\u001b[39;00m(\u001b[38;5;124m\"\u001b[39m\u001b[38;5;124mURL not accessible\u001b[39m\u001b[38;5;124m\"\u001b[39m)\n",
      "\u001b[1;31mException\u001b[0m: URL not accessible"
     ]
    }
   ],
   "source": [
    "print(\"Trying to get job info\")\n",
    "response = requests.get(url)\n",
    "job_post = extract_text_from_url(url)  # Extract text from URL if accessible\n",
    "job_post= \"The job description is: \" + job_post + \"Job Description end.\"\n",
    "print(\"/n/n\",job_post,\"/n/n\")\n",
    "else:\n",
    "    raise Exception(\"URL not accessible\")"
   ]
  },
  {
   "cell_type": "code",
   "execution_count": null,
   "id": "3a483117-5740-4643-9c37-bc53b4f9e6a9",
   "metadata": {},
   "outputs": [],
   "source": []
  }
 ],
 "metadata": {
  "kernelspec": {
   "display_name": "Python 3 (ipykernel)",
   "language": "python",
   "name": "python3"
  },
  "language_info": {
   "codemirror_mode": {
    "name": "ipython",
    "version": 3
   },
   "file_extension": ".py",
   "mimetype": "text/x-python",
   "name": "python",
   "nbconvert_exporter": "python",
   "pygments_lexer": "ipython3",
   "version": "3.12.4"
  }
 },
 "nbformat": 4,
 "nbformat_minor": 5
}
